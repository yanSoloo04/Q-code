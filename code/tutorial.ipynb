{
 "cells": [
  {
   "cell_type": "markdown",
   "metadata": {},
   "source": [
    "<h1>Ce notebook sera un tutoriel sur comment utiliser le code présent dans la brache main du répertoire github.</h1> \n"
   ]
  },
  {
   "cell_type": "markdown",
   "metadata": {},
   "source": [
    "Pour commencer, nous allons baser notre code sur la librairie pannylane. C'est une librarie développée par Xanadu et qui est confectionnée pour faire de l'informatique quantique. "
   ]
  },
  {
   "cell_type": "markdown",
   "metadata": {},
   "source": [
    "La première étape dans notre code est d'importer nos fichiers utiles pour l'exécution de notre code. \n",
    "- Le fichier \"data.py\" sert à aller chercher les données d'un fichier et à traiter ces données pour faire des tests.  \n",
    "- Le fichier \"MLPC.py\" sert à tester une méthode classique d'apprentissage machine pour comparer les résultats.\n",
    "- Le fichier \"QCNN.py\" est le fichier qui contient la méthode de réseau neuronal convolutif quantique  (Quantum Convolutional Neural Network).\n",
    "- Le fichier \"QSVM.py\" esl le fichier qui contient la méthode de Machine à vecteur de support quantique (Quantum Support Vector Machine).\n",
    "- Le fichier \"VQC.py\" esl le fichier qui contient la méthode de classificateur quantique variationnel (Variational Quantum Classifier)"
   ]
  },
  {
   "cell_type": "code",
   "execution_count": 1,
   "metadata": {},
   "outputs": [],
   "source": [
    "from QCNN import run_QCNN\n",
    "from VQC import run_VQC\n",
    "from QSVM import run_QSVM\n",
    "from MLPC import run_MLPC\n",
    "from data import get_csv_file, get_samples\n",
    "import numpy as np"
   ]
  },
  {
   "cell_type": "markdown",
   "metadata": {},
   "source": [
    "Maintenant, nous pouvons commencer en allant chercher un jeu de données qui se trouve dans le répertoire. Pour notre exemple, nous avons utilisé des données de pulsar qui se trouvent dans le fichier HTRU_2.csv et pour faire un test, des données de haricots secs se trouvant dans le fichier Dry_Bean_Dataset.xlsx. Pour ouvrir le fichier HTRU_2.csv, nous utilisons la fonction get_csv_file() du fichier data.py"
   ]
  },
  {
   "cell_type": "code",
   "execution_count": 2,
   "metadata": {},
   "outputs": [],
   "source": [
    "HTRU_2_dataset = get_csv_file('HTRU_2.csv')"
   ]
  },
  {
   "cell_type": "markdown",
   "metadata": {},
   "source": [
    "Une fois le jeu de données récupéré, on doit traiter les données pour pouvoir les utiliser. La fonction get_samples() va être utilisée pour aller chercher un certain nombre de données. Nous allons prendre un échantillon pour tester l'algorithme et un échantillon pour entraîner l'algorithme. Cette fonction sera utilisé plus tard dépendament des techniques utilisées. "
   ]
  },
  {
   "cell_type": "markdown",
   "metadata": {},
   "source": [
    "Il y a quelques paramètres à définir avant d'utiliser nos fonctions. C'est paramètres peuvent être modifiés selon la préférence de l'utilisateur.<br>\n",
    "\n",
    "**nb_data** : Cette variable représente la quantité de données à aller chercher dans le jeu de données<br>\n",
    "**labels** : Cette variable doit être adapter au étiquette du jeu de données utilisé lors du test. Dans le cas du HTRU_2, les étiquettes sont de 0.0 et 1.0.<br>\n",
    "**embedding_method** : Il y a deux types d'encodage utilisés dans notre algorithme. L'utilisateur peut donc choisir entre ***'amplitude'*** et 'angle'.<br>\n",
    "**rotation** : Il peut être modifié si l'utilisateur utilise l'encodage en angle. On a le choix entre ***'X'***,***'Y'*** et ***'Z'***. <br>\n",
    "**batch_size** : Cette variable détermine la quantitée de paramêtre d'emtrainement pour l'algorithme.<br>\n",
    "**ansatz** : On peut choisir entre un ansatz pré-définie avec ***'layer'*** ou choisr un ansatz aléatoire avec ***'random'***."
   ]
  },
  {
   "cell_type": "code",
   "execution_count": 7,
   "metadata": {},
   "outputs": [],
   "source": [
    "nb_data = 60\n",
    "labels = [0.0,1.0]\n",
    "embedding_method = 'angle'\n",
    "rotation = 'Y'\n",
    "batch_size = 30\n",
    "ansatz = 'layer'"
   ]
  },
  {
   "cell_type": "markdown",
   "metadata": {},
   "source": [
    "<h1>QSVM</h1>"
   ]
  },
  {
   "cell_type": "markdown",
   "metadata": {},
   "source": [
    "Le QSVM sera exécuté dans le prochain bloc de code. Nous utilisons la fonction mentionnée plus au pour traiter les données et on utilise une autre fonction qui exécute l'agorithme pour le QSVM.<br><br>\n",
    "\n",
    "**get_samples()**<br><br>\n",
    "Entrée : <br>\n",
    "- Un tableau avec un jeu de donnée.<br>\n",
    "- Un integer qui représente la quantitée de donnée à aller chercher.<br>\n",
    "- Un tableau avec deux étiquetes comprisent dans le jeu de donnée.<br>\n",
    "\n",
    "Sortie : <br>\n",
    "- Un tableau avec des données prises au hasard dans le jeu de donnée utilisé.<br>\n",
    "- Un tableau avec les étiquettes associés à chaque donnée dans l'autre tableau.\n",
    "\n",
    "\n",
    "<br>\n",
    "\n",
    "**run_QSVM()**<br><br>\n",
    "Entrée : <br>\n",
    "- Un tableau avec un certain nombre de paramêtres d'un jeu de donnée.<br>\n",
    "- Un tableau avec les étiquettes pour les paramètres plus haut.<br>\n",
    "- La méthode d'encodage utilisée.<br>\n",
    "- Le type de rotation si la méthode d'encodage est 'angle'.<br>\n",
    "\n",
    "Sortie : <br>\n",
    "- La précision de notre algorithme pour le QSVM."
   ]
  },
  {
   "cell_type": "code",
   "execution_count": 5,
   "metadata": {},
   "outputs": [
    {
     "name": "stdout",
     "output_type": "stream",
     "text": [
      "Establishing the support vectors...\n",
      "Calculating predictions...\n",
      "Actual labels:  [ 1 -1  1  1 -1 -1  1 -1 -1 -1 -1 -1  1 -1  1]\n",
      "Predicted labels:  [-1 -1 -1 -1 -1 -1  1 -1 -1  1 -1 -1  1 -1 -1]\n",
      "QSVM ACCURACY: 0.6666666666666666\n"
     ]
    }
   ],
   "source": [
    "HTRU_2_parameters, HTRU_2_labels = get_samples(HTRU_2_dataset, nb_data, labels)\n",
    "\n",
    "qsvm_accuracy = run_QSVM(HTRU_2_parameters, HTRU_2_labels, embedding_method, rotation)\n",
    "print('QSVM ACCURACY:', qsvm_accuracy)"
   ]
  },
  {
   "cell_type": "markdown",
   "metadata": {},
   "source": [
    "<h1>QCNN</h1>"
   ]
  },
  {
   "cell_type": "markdown",
   "metadata": {},
   "source": [
    "Pour utiliser le QCNN, nous allons appeler une fonction qui exécute l'algorithme pour le QCNN. Cette fonction s'occupera également à traiter les données.<br><br>\n",
    "Entrée : <br>\n",
    "- Le jeu de données complet obtenue plus haut.<br>\n",
    "- Le nombre de donner que nous allons prendre dans le jeu de données.<br>\n",
    "- Le nombre de donner d'entraînement pour l'algorithme.<br>\n",
    "- Un tableau avec deux étiquetes comprisent dans le jeu de donnée.<br>\n",
    "- La méthode d'encodage utilisée.<br>\n",
    "- Le type de rotation si la méthode d'encodage est 'angle'.<br>\n",
    "- Le dernier paramètre représente la quantité d'itération à faire. Par défault, cette valeur est de 20.\n",
    "\n",
    "Sortie : <br>\n",
    "- La précision de notre algorithme pour le QCNN."
   ]
  },
  {
   "cell_type": "code",
   "execution_count": 8,
   "metadata": {},
   "outputs": [
    {
     "name": "stdout",
     "output_type": "stream",
     "text": [
      "Iter:    1 | Cost: 0.8784252 | Accuracy: 0.6166667\n",
      "-----------------------------------------------------------------------------------------\n",
      "Iter:    2 | Cost: 0.7082265 | Accuracy: 0.7166667\n",
      "-----------------------------------------------------------------------------------------\n",
      "Iter:    3 | Cost: 0.6389348 | Accuracy: 0.9000000\n",
      "-----------------------------------------------------------------------------------------\n",
      "Iter:    4 | Cost: 0.7080263 | Accuracy: 0.8166667\n",
      "-----------------------------------------------------------------------------------------\n",
      "Iter:    5 | Cost: 0.6844901 | Accuracy: 0.8333333\n",
      "-----------------------------------------------------------------------------------------\n",
      "Iter:    6 | Cost: 0.6975842 | Accuracy: 0.7833333\n",
      "-----------------------------------------------------------------------------------------\n",
      "Iter:    7 | Cost: 0.6654387 | Accuracy: 0.8500000\n",
      "-----------------------------------------------------------------------------------------\n",
      "Iter:    8 | Cost: 0.6069770 | Accuracy: 0.8500000\n",
      "-----------------------------------------------------------------------------------------\n",
      "Iter:    9 | Cost: 0.5543232 | Accuracy: 0.8666667\n",
      "-----------------------------------------------------------------------------------------\n",
      "Iter:   10 | Cost: 0.5256162 | Accuracy: 0.9000000\n",
      "-----------------------------------------------------------------------------------------\n",
      "Actual labels:  [-1 -1  1  1  1  1 -1 -1  1  1  1  1  1 -1 -1 -1 -1 -1  1 -1  1 -1 -1 -1\n",
      " -1  1  1  1 -1 -1  1  1 -1  1  1 -1 -1 -1  1  1  1  1  1 -1 -1 -1 -1  1\n",
      "  1 -1 -1  1  1  1 -1 -1 -1  1 -1  1]\n",
      "Predicted labels:  [-1. -1.  1.  1.  1.  1. -1. -1.  1.  1.  1.  1.  1. -1. -1. -1. -1.  1.\n",
      "  1. -1.  1. -1. -1. -1. -1.  1.  1. -1. -1. -1. -1.  1. -1.  1.  1. -1.\n",
      " -1. -1.  1. -1.  1.  1. -1. -1. -1. -1. -1.  1. -1. -1. -1.  1.  1.  1.\n",
      " -1. -1. -1.  1. -1.  1.]\n",
      "QCNN ACCURACY: 0.9\n"
     ]
    }
   ],
   "source": [
    "qcnn_accuracy = run_QCNN(HTRU_2_dataset, nb_data, batch_size, labels, embedding_method, rotation, 10)\n",
    "print('QCNN ACCURACY:', qcnn_accuracy)"
   ]
  },
  {
   "cell_type": "markdown",
   "metadata": {},
   "source": [
    "<h1>VQC</h1>"
   ]
  },
  {
   "cell_type": "markdown",
   "metadata": {},
   "source": [
    "L'exécution du VQC est très similaire au QCNN. Il faut seulement ajouter un ansatz<br><br>\n",
    "Entrée : <br>\n",
    "- Le jeu de données complet obtenue plus haut.<br>\n",
    "- Le nombre de donner que nous allons prendre dans le jeu de données.<br>\n",
    "- Le nombre de donner d'entraînement pour l'algorithme.<br>\n",
    "- Un tableau avec deux étiquetes comprisent dans le jeu de donnée.<br>\n",
    "- Le type d'ansatz à utiliser.<br>\n",
    "- La méthode d'encodage utilisée.<br>\n",
    "- Le type de rotation si la méthode d'encodage est 'angle'.<br>\n",
    "- La quantité d'itération à faire. Par défault, cette valeur est de 20.\n",
    "- Le nombre de couche à faire dans le ansatz. Par défault cette valeur est de 2.\n",
    "\n",
    "Sortie : <br>\n",
    "- La précision de notre algorithme pour le VQC."
   ]
  },
  {
   "cell_type": "code",
   "execution_count": 10,
   "metadata": {},
   "outputs": [
    {
     "name": "stdout",
     "output_type": "stream",
     "text": [
      "Iter:    1 | Cost: 0.9914819 | Accuracy: 0.5333333\n",
      "-----------------------------------------------------------------------------------------\n",
      "Iter:    2 | Cost: 0.8707948 | Accuracy: 0.7333333\n",
      "-----------------------------------------------------------------------------------------\n",
      "Iter:    3 | Cost: 0.7603885 | Accuracy: 0.8000000\n",
      "-----------------------------------------------------------------------------------------\n",
      "Iter:    4 | Cost: 0.6933059 | Accuracy: 0.8166667\n",
      "-----------------------------------------------------------------------------------------\n",
      "Iter:    5 | Cost: 0.6665531 | Accuracy: 0.8166667\n",
      "-----------------------------------------------------------------------------------------\n",
      "Iter:    6 | Cost: 0.6640280 | Accuracy: 0.8333333\n",
      "-----------------------------------------------------------------------------------------\n",
      "Iter:    7 | Cost: 0.6734081 | Accuracy: 0.8666667\n",
      "-----------------------------------------------------------------------------------------\n",
      "Iter:    8 | Cost: 0.6829343 | Accuracy: 0.8500000\n",
      "-----------------------------------------------------------------------------------------\n",
      "Iter:    9 | Cost: 0.6878821 | Accuracy: 0.8333333\n",
      "-----------------------------------------------------------------------------------------\n",
      "Iter:   10 | Cost: 0.6785536 | Accuracy: 0.8166667\n",
      "-----------------------------------------------------------------------------------------\n",
      "Actual labels:  [-1  1 -1 -1 -1 -1 -1 -1 -1 -1  1 -1  1  1 -1  1  1  1  1  1 -1  1 -1  1\n",
      " -1  1  1 -1  1  1  1 -1  1 -1  1 -1  1 -1 -1 -1 -1 -1  1  1 -1  1 -1  1\n",
      " -1  1 -1  1 -1  1 -1 -1  1  1  1  1]\n",
      "Predicted labels:  [-1.  1. -1.  1. -1. -1. -1. -1.  1. -1.  1.  1. -1.  1. -1. -1.  1.  1.\n",
      "  1.  1. -1.  1.  1.  1. -1.  1.  1. -1.  1.  1.  1. -1.  1. -1.  1.  1.\n",
      "  1. -1.  1.  1. -1. -1.  1.  1. -1.  1. -1.  1.  1.  1. -1.  1. -1.  1.\n",
      " -1. -1.  1. -1.  1.  1.]\n",
      "VQC ACCURACY: 0.8166666666666667\n"
     ]
    }
   ],
   "source": [
    "vqc_accuracy = run_VQC(HTRU_2_dataset, nb_data, batch_size, labels, ansatz, embedding_method, rotation, 10, 2)\n",
    "print('VQC ACCURACY:', vqc_accuracy)"
   ]
  },
  {
   "cell_type": "markdown",
   "metadata": {},
   "source": [
    "<h1>MLPC</h1>"
   ]
  },
  {
   "cell_type": "markdown",
   "metadata": {},
   "source": [
    "L'exécution du VQC est très similaire au QCNN. Il faut seulement ajouter un ansatz<br><br>\n",
    "Entrée : <br>\n",
    "- Des paramètres du jeu de données obtenue dans la partie QCNN obtenue plus haut.<br>\n",
    "- Un tableau avec deux étiquetes comprisent dans le jeu de donnée.<br>\n",
    "\n",
    "Sortie : <br>\n",
    "- La précision de notre algorithme pour le MLPC."
   ]
  },
  {
   "cell_type": "code",
   "execution_count": 12,
   "metadata": {},
   "outputs": [
    {
     "name": "stdout",
     "output_type": "stream",
     "text": [
      "Classifying the datas...\n",
      "Actual labels:  [ 1 -1  1 -1 -1  1  1  1 -1 -1 -1 -1]\n",
      "Predicted labels:  [ 1 -1  1 -1 -1  1  1  1  1 -1 -1 -1]\n",
      "MLPC ACCURACY: 0.9166666666666666\n"
     ]
    }
   ],
   "source": [
    "mlpc_accuracy = run_MLPC(HTRU_2_parameters, HTRU_2_labels)\n",
    "print('MLPC ACCURACY:', mlpc_accuracy)"
   ]
  },
  {
   "cell_type": "markdown",
   "metadata": {},
   "source": [
    "Maintenant que nous avons obtenue des résultats pour chaque méthode de QML implémentée, on peut afficher tous les résultats pour mieux les comparer."
   ]
  },
  {
   "cell_type": "code",
   "execution_count": 13,
   "metadata": {},
   "outputs": [
    {
     "name": "stdout",
     "output_type": "stream",
     "text": [
      "accuracy array:  [[0.91666667 0.         0.81666667 0.9       ]\n",
      " [0.         0.66666667 0.         0.        ]]\n"
     ]
    }
   ],
   "source": [
    "results = np.zeros((2, 4))\n",
    "\n",
    "results[0, 0] = mlpc_accuracy\n",
    "results[1, 1] = qsvm_accuracy\n",
    "results[0, 2] = vqc_accuracy\n",
    "results[0, 3] = qcnn_accuracy\n",
    "\n",
    "print('accuracy array: ', results)"
   ]
  }
 ],
 "metadata": {
  "kernelspec": {
   "display_name": "Q-code2",
   "language": "python",
   "name": "python3"
  },
  "language_info": {
   "codemirror_mode": {
    "name": "ipython",
    "version": 3
   },
   "file_extension": ".py",
   "mimetype": "text/x-python",
   "name": "python",
   "nbconvert_exporter": "python",
   "pygments_lexer": "ipython3",
   "version": "3.12.5"
  }
 },
 "nbformat": 4,
 "nbformat_minor": 2
}
