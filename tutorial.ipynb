{
 "cells": [
  {
   "cell_type": "markdown",
   "metadata": {},
   "source": [
    "Ce notebook sera un tutoriel sur comment utiliser le code présent dans la brache main du répertoire github.  \n"
   ]
  },
  {
   "cell_type": "markdown",
   "metadata": {},
   "source": [
    "Pour commencer, nous allons utiliser la librairie pannylane de Xanadu. Ensuite, nous utiliserons scikit-learn dans notre implémentation. Il faudra donc installer pennylane et scikit-learn. De plus, installer pennylane installera une version spécial de numpy que nous utiliserons. "
   ]
  },
  {
   "cell_type": "code",
   "execution_count": null,
   "metadata": {},
   "outputs": [],
   "source": [
    "pip install scikit-learn\n",
    "pip install pennylane\n",
    "pip install panda\n",
    "pip install matplotlib"
   ]
  },
  {
   "cell_type": "markdown",
   "metadata": {},
   "source": []
  },
  {
   "cell_type": "code",
   "execution_count": null,
   "metadata": {},
   "outputs": [],
   "source": []
  },
  {
   "cell_type": "markdown",
   "metadata": {},
   "source": [
    "Une fois les libraries installées, nous pouvons commencer en allant chercher un jeu de donnée qui se trouve dans le répertoire. Pour notre exemple, nous avons utilisé des données de pulsar qui se trouvent dans le fichier HTRU_2.csv et pour faire un test, des données de haricots secs se trouvant dans le fichié Dry_Bean_Dataset.xlsx. Pour ouvrir le fichier HTRU_@.csv, nous utilisons la fonction get_csv_file() du fichier data.py"
   ]
  },
  {
   "cell_type": "code",
   "execution_count": null,
   "metadata": {},
   "outputs": [],
   "source": []
  }
 ],
 "metadata": {
  "kernelspec": {
   "display_name": "Q-code2",
   "language": "python",
   "name": "python3"
  },
  "language_info": {
   "codemirror_mode": {
    "name": "ipython",
    "version": 3
   },
   "file_extension": ".py",
   "mimetype": "text/x-python",
   "name": "python",
   "nbconvert_exporter": "python",
   "pygments_lexer": "ipython3",
   "version": "3.12.5"
  }
 },
 "nbformat": 4,
 "nbformat_minor": 2
}
