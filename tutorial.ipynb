{
 "cells": [
  {
   "cell_type": "markdown",
   "metadata": {},
   "source": [
    "Ce notebook sera un tutoriel sur comment utiliser le code présent dans la brache main du répertoire github.  \n"
   ]
  },
  {
   "cell_type": "markdown",
   "metadata": {},
   "source": [
    "Pour commencer, nous allons utiliser la librairie pannylane de Xanadu. Ensuite, nous utiliserons scikit-learn dans notre implémentation. Il faudra donc installer pennylane et scikit-learn. De plus, installer pennylane installera une version spécial de numpy que nous utiliserons. "
   ]
  },
  {
   "cell_type": "code",
   "execution_count": null,
   "metadata": {},
   "outputs": [],
   "source": [
    "pip install scikit-learn\n",
    "pip install pennylane\n",
    "pip install panda\n",
    "pip install matplotlib"
   ]
  },
  {
   "cell_type": "markdown",
   "metadata": {},
   "source": [
    "Ensuite, nous devons importer nos fichiers utiles pour l'exécution de notre code. \n",
    "    - Le fichier \"data.py\" sert à aller chercher les données d'un fichier et à traiter ces données pour faire des tests.  \n",
    "    - Le fichier \"MLPC.py\" sert à tester une méthode classique d'apprentissage machine pour comparer les résultats.\n",
    "    - Le fichier \"QCNN.py\" est le fichier qui contient la méthode de réseau neuronal convolutif quantique  (Quantum Convolutional Neural Network).\n",
    "    - Le fichier \"QSVM.py\" esl le fichier qui contient la méthode de Machine à vecteur de support quantique (Quantum Support Vector Machine).\n",
    "    - Le fichier \"VQC.py\" esl le fichier qui contient la méthode de classificateur quantique variationnel (Variational Quantum Classifier)"
   ]
  },
  {
   "cell_type": "code",
   "execution_count": null,
   "metadata": {},
   "outputs": [],
   "source": [
    "import data\n",
    "import MLPC\n",
    "import QCNN\n",
    "import QSVM\n",
    "import VQC"
   ]
  },
  {
   "cell_type": "markdown",
   "metadata": {},
   "source": [
    "Maintenant, nous pouvons commencer en allant chercher un jeu de données qui se trouve dans le répertoire. Pour notre exemple, nous avons utilisé des données de pulsar qui se trouvent dans le fichier HTRU_2.csv et pour faire un test, des données de haricots secs se trouvant dans le fichier Dry_Bean_Dataset.xlsx. Pour ouvrir le fichier HTRU_2.csv, nous utilisons la fonction get_csv_file() du fichier data.py"
   ]
  },
  {
   "cell_type": "code",
   "execution_count": null,
   "metadata": {},
   "outputs": [],
   "source": [
    "data_set = data.('HTRU_2.csv')"
   ]
  },
  {
   "cell_type": "markdown",
   "metadata": {},
   "source": [
    "0Une fois le jeu de données récupéré, on doit traiterces les données pour pouvoir les utiliser. La fonction get_samples() va être utilisée pour aller chercher un certain nombre de données. La fonction prend en entrée un tableau qui représente des données, le nombre de données à sortir et un tableau avec les deux étiquettes pour séparer les types de données. "
   ]
  },
  {
   "cell_type": "code",
   "execution_count": null,
   "metadata": {},
   "outputs": [],
   "source": [
    "sample_array = data.get_samples("
   ]
  }
 ],
 "metadata": {
  "kernelspec": {
   "display_name": "Q-code2",
   "language": "python",
   "name": "python3"
  },
  "language_info": {
   "codemirror_mode": {
    "name": "ipython",
    "version": 3
   },
   "file_extension": ".py",
   "mimetype": "text/x-python",
   "name": "python",
   "nbconvert_exporter": "python",
   "pygments_lexer": "ipython3",
   "version": "3.12.5"
  }
 },
 "nbformat": 4,
 "nbformat_minor": 2
}
